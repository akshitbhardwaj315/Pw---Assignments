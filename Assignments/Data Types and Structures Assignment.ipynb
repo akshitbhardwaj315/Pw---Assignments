{
 "cells": [
  {
   "cell_type": "code",
   "execution_count": 1,
   "id": "4a5eef2b-673c-4660-ba6c-c1d3b5e181b8",
   "metadata": {},
   "outputs": [
    {
     "data": {
      "text/plain": [
       "'\\nLists use index-based retrieval (O(1)), while dictionaries use key-based retrieval (O(1) on average).\\n'"
      ]
     },
     "execution_count": 1,
     "metadata": {},
     "output_type": "execute_result"
    }
   ],
   "source": [
    "# Theoretical Questions\n",
    "\n",
    "# What are data structures, and why are they important?\n",
    "\"\"\"\n",
    "Data structures are ways of organizing and storing data to enable efficient access and modification.\n",
    "They are important because they help manage large amounts of data efficiently, optimize performance,\n",
    "and make problem-solving easier.\n",
    "\"\"\"\n",
    "\n",
    "# Explain the difference between mutable and immutable data types with examples\n",
    "\"\"\"\n",
    "Mutable data types can be changed after creation (e.g., lists, dictionaries, sets), while\n",
    "immutable data types cannot be modified once created (e.g., tuples, strings, numbers).\n",
    "Example:\n",
    "Mutable: list1 = [1, 2, 3] -> list1[0] = 10\n",
    "Immutable: tuple1 = (1, 2, 3) -> Not possible to change tuple1[0]\n",
    "\"\"\"\n",
    "\n",
    "# What are the main differences between lists and tuples in Python?\n",
    "\"\"\"\n",
    "Lists are mutable, slower, and use more memory.\n",
    "Tuples are immutable, faster, and use less memory.\n",
    "\"\"\"\n",
    "\n",
    "# Describe how dictionaries store data\n",
    "\"\"\"\n",
    "Dictionaries store data as key-value pairs using a hash table.\n",
    "Each key is unique and maps to a specific value.\n",
    "\"\"\"\n",
    "\n",
    "# Why might you use a set instead of a list in Python?\n",
    "\"\"\"\n",
    "Sets remove duplicate values and provide faster membership tests compared to lists.\n",
    "\"\"\"\n",
    "\n",
    "# What is a string in Python, and how is it different from a list?\n",
    "\"\"\"\n",
    "A string is an immutable sequence of characters, whereas a list is mutable and can store multiple data types.\n",
    "\"\"\"\n",
    "\n",
    "# How do tuples ensure data integrity in Python?\n",
    "\"\"\"\n",
    "Since tuples are immutable, their values cannot be changed after creation, ensuring data integrity.\n",
    "\"\"\"\n",
    "\n",
    "# What is a hash table, and how does it relate to dictionaries in Python?\n",
    "\"\"\"\n",
    "A hash table is a data structure that maps keys to values using a hash function.\n",
    "Dictionaries in Python are implemented using hash tables.\n",
    "\"\"\"\n",
    "\n",
    "# Can lists contain different data types in Python?\n",
    "\"\"\"\n",
    "Yes, lists can contain multiple data types, such as integers, strings, and other lists.\n",
    "\"\"\"\n",
    "\n",
    "# Explain why strings are immutable in Python.\n",
    "\"\"\"\n",
    "Strings are immutable to ensure security, efficient memory usage, and performance optimizations.\n",
    "\"\"\"\n",
    "\n",
    "# What advantages do dictionaries offer over lists for certain tasks?\n",
    "\"\"\"\n",
    "Dictionaries provide fast key-based lookups, making them efficient for searching and organizing data.\n",
    "\"\"\"\n",
    "\n",
    "# Describe a scenario where using a tuple would be preferable over a list.\n",
    "\"\"\"\n",
    "Use a tuple when data should not change, such as representing fixed coordinates (latitude, longitude).\n",
    "\"\"\"\n",
    "\n",
    "# How do sets handle duplicate values in Python?\n",
    "\"\"\"\n",
    "Sets automatically remove duplicate values when elements are added.\n",
    "\"\"\"\n",
    "\n",
    "# How does the \"in\" keyword work differently for lists and dictionaries?\n",
    "\"\"\"\n",
    "In lists, \"in\" checks for values; in dictionaries, \"in\" checks for keys.\n",
    "\"\"\"\n",
    "\n",
    "# Can you modify the elements of a tuple? Explain why or why not.\n",
    "\"\"\"\n",
    "No, tuples are immutable, so their elements cannot be changed after creation.\n",
    "\"\"\"\n",
    "\n",
    "# What is a nested dictionary, and give an example of its use case.\n",
    "\"\"\"\n",
    "A nested dictionary is a dictionary inside another dictionary.\n",
    "Example: student = {\"name\": \"Alice\", \"marks\": {\"math\": 90, \"science\": 85}}\n",
    "\"\"\"\n",
    "\n",
    "# Describe the time complexity of accessing elements in a dictionary.\n",
    "\"\"\"\n",
    "Accessing elements in a dictionary has an average time complexity of O(1) due to hashing.\n",
    "\"\"\"\n",
    "\n",
    "# In what situations are lists preferred over dictionaries?\n",
    "\"\"\"\n",
    "Lists are preferred when order matters, and indexing elements by position is required.\n",
    "\"\"\"\n",
    "\n",
    "# Why are dictionaries considered unordered, and how does that affect data retrieval?\n",
    "\"\"\"\n",
    "Dictionaries are unordered before Python 3.7 because they rely on hash functions for key lookups.\n",
    "Since Python 3.7, they maintain insertion order.\n",
    "\"\"\"\n",
    "\n",
    "# Explain the difference between a list and a dictionary in terms of data retrieval.\n",
    "\"\"\"\n",
    "Lists use index-based retrieval (O(1)), while dictionaries use key-based retrieval (O(1) on average).\n",
    "\"\"\"\n"
   ]
  },
  {
   "cell_type": "code",
   "execution_count": 2,
   "id": "5d24b616-f448-4c32-995d-f1aa308a64fd",
   "metadata": {},
   "outputs": [],
   "source": [
    "# Practical Questions\n"
   ]
  },
  {
   "cell_type": "code",
   "execution_count": 3,
   "id": "c2e0dd72-9a5c-40e6-96f6-0f4323c0bb32",
   "metadata": {},
   "outputs": [
    {
     "name": "stdout",
     "output_type": "stream",
     "text": [
      "Akshit Bhardwaj\n"
     ]
    }
   ],
   "source": [
    "# Write a code to create a string with your name and print it\n",
    "name = \"Akshit Bhardwaj\"\n",
    "print(name)"
   ]
  },
  {
   "cell_type": "code",
   "execution_count": 4,
   "id": "43e8f009-8303-4bc9-88dd-46be553fcc31",
   "metadata": {},
   "outputs": [
    {
     "name": "stdout",
     "output_type": "stream",
     "text": [
      "11\n"
     ]
    }
   ],
   "source": [
    "# Write a code to find the length of the string \"Hello World\"\n",
    "string1 = \"Hello World\"\n",
    "print(len(string1))"
   ]
  },
  {
   "cell_type": "code",
   "execution_count": 5,
   "id": "dc395a91-d503-43ff-a496-964dde96811b",
   "metadata": {},
   "outputs": [
    {
     "name": "stdout",
     "output_type": "stream",
     "text": [
      "Pyt\n"
     ]
    }
   ],
   "source": [
    "# Write a code to slice the first 3 characters from the string \"Python Programming\"\n",
    "string2 = \"Python Programming\"\n",
    "print(string2[:3])"
   ]
  },
  {
   "cell_type": "code",
   "execution_count": 6,
   "id": "534d8c0f-35a3-4dca-ada4-fb4e69e87ccc",
   "metadata": {},
   "outputs": [
    {
     "name": "stdout",
     "output_type": "stream",
     "text": [
      "HELLO\n"
     ]
    }
   ],
   "source": [
    "# Write a code to convert the string \"hello\" to uppercase\n",
    "string3 = \"hello\"\n",
    "print(string3.upper())\n"
   ]
  },
  {
   "cell_type": "code",
   "execution_count": 7,
   "id": "8bc6ba08-876d-4d7c-9591-3150c67dbd6d",
   "metadata": {},
   "outputs": [
    {
     "name": "stdout",
     "output_type": "stream",
     "text": [
      "I like orange\n"
     ]
    }
   ],
   "source": [
    "\n",
    "# Write a code to replace the word \"apple\" with \"orange\" in the string \"I like apple\"\n",
    "string4 = \"I like apple\"\n",
    "print(string4.replace(\"apple\", \"orange\"))"
   ]
  },
  {
   "cell_type": "code",
   "execution_count": 8,
   "id": "b5d7d9d8-f618-4c4f-944c-9e014bff135b",
   "metadata": {},
   "outputs": [
    {
     "name": "stdout",
     "output_type": "stream",
     "text": [
      "[1, 2, 3, 4, 5]\n"
     ]
    }
   ],
   "source": [
    "# Write a code to create a list with numbers 1 to 5 and print it\n",
    "numbers = [1, 2, 3, 4, 5]\n",
    "print(numbers)"
   ]
  },
  {
   "cell_type": "code",
   "execution_count": 9,
   "id": "f6a68bd9-61ed-4008-a425-1841a89c7488",
   "metadata": {},
   "outputs": [
    {
     "name": "stdout",
     "output_type": "stream",
     "text": [
      "[1, 2, 3, 4, 10]\n"
     ]
    }
   ],
   "source": [
    "# Write a code to append the number 10 to the list [1, 2, 3, 4]\n",
    "numbers2 = [1, 2, 3, 4]\n",
    "numbers2.append(10)\n",
    "print(numbers2)"
   ]
  },
  {
   "cell_type": "code",
   "execution_count": 10,
   "id": "fcd64727-c512-4272-aab1-094aae2984f6",
   "metadata": {},
   "outputs": [
    {
     "name": "stdout",
     "output_type": "stream",
     "text": [
      "[1, 2, 4, 5]\n"
     ]
    }
   ],
   "source": [
    "# Write a code to remove the number 3 from the list [1, 2, 3, 4, 5]\n",
    "numbers3 = [1, 2, 3, 4, 5]\n",
    "numbers3.remove(3)\n",
    "print(numbers3)"
   ]
  },
  {
   "cell_type": "code",
   "execution_count": 11,
   "id": "fbc3af53-aa95-4e59-be0b-9001f72d0155",
   "metadata": {},
   "outputs": [
    {
     "name": "stdout",
     "output_type": "stream",
     "text": [
      "b\n"
     ]
    }
   ],
   "source": [
    "\n",
    "# Write a code to access the second element in the list ['a', 'b', 'c', 'd']\n",
    "letters = ['a', 'b', 'c', 'd']\n",
    "print(letters[1])"
   ]
  },
  {
   "cell_type": "code",
   "execution_count": 12,
   "id": "9185ca46-9431-4120-b77c-7140e52cb001",
   "metadata": {},
   "outputs": [
    {
     "name": "stdout",
     "output_type": "stream",
     "text": [
      "[50, 40, 30, 20, 10]\n"
     ]
    }
   ],
   "source": [
    "# Write a code to reverse the list [10, 20, 30, 40, 50]\n",
    "numbers4 = [10, 20, 30, 40, 50]\n",
    "numbers4.reverse()\n",
    "print(numbers4)"
   ]
  },
  {
   "cell_type": "code",
   "execution_count": 13,
   "id": "be064130-ac3e-4ec0-9e27-8b1968ccac5f",
   "metadata": {},
   "outputs": [
    {
     "name": "stdout",
     "output_type": "stream",
     "text": [
      "(100, 200, 300)\n"
     ]
    }
   ],
   "source": [
    "# Write a code to create a tuple with the elements 100, 200, 300 and print it\n",
    "tuple1 = (100, 200, 300)\n",
    "print(tuple1)"
   ]
  }
 ],
 "metadata": {
  "kernelspec": {
   "display_name": "Python 3 (ipykernel)",
   "language": "python",
   "name": "python3"
  },
  "language_info": {
   "codemirror_mode": {
    "name": "ipython",
    "version": 3
   },
   "file_extension": ".py",
   "mimetype": "text/x-python",
   "name": "python",
   "nbconvert_exporter": "python",
   "pygments_lexer": "ipython3",
   "version": "3.13.2"
  }
 },
 "nbformat": 4,
 "nbformat_minor": 5
}
