{
 "cells": [
  {
   "cell_type": "code",
   "execution_count": 1,
   "id": "81993117-b5a1-4241-b29d-ed69673ccaa9",
   "metadata": {},
   "outputs": [],
   "source": [
    "# Python Assignment\n"
   ]
  },
  {
   "cell_type": "code",
   "execution_count": 4,
   "id": "ebd60d9b-887f-4598-a45d-21d7ecc44e83",
   "metadata": {},
   "outputs": [
    {
     "data": {
      "text/plain": [
       "'\\nPython is widely used due to its simplicity and versatility. Key features include:\\n- **Easy to Learn & Readable**: Python has a simple syntax similar to English, making it beginner-friendly.\\n- **Interpreted Language**: Python code is executed line by line, making debugging easier.\\n- **Dynamically Typed**: No need to declare variable types explicitly.\\n- **Object-Oriented & Functional**: Supports both programming paradigms.\\n- **Extensive Libraries & Frameworks**: Includes NumPy, Pandas, TensorFlow, etc.\\n- **Cross-Platform**: Runs on Windows, macOS, and Linux.\\n'"
      ]
     },
     "execution_count": 4,
     "metadata": {},
     "output_type": "execute_result"
    }
   ],
   "source": [
    "# 1. Explain the key features of Python that make it a popular choice for programming\n",
    "\n",
    "\"\"\"\n",
    "Python is widely used due to its simplicity and versatility. Key features include:\n",
    "- **Easy to Learn & Readable**: Python has a simple syntax similar to English, making it beginner-friendly.\n",
    "- **Interpreted Language**: Python code is executed line by line, making debugging easier.\n",
    "- **Dynamically Typed**: No need to declare variable types explicitly.\n",
    "- **Object-Oriented & Functional**: Supports both programming paradigms.\n",
    "- **Extensive Libraries & Frameworks**: Includes NumPy, Pandas, TensorFlow, etc.\n",
    "- **Cross-Platform**: Runs on Windows, macOS, and Linux.\n",
    "\"\"\""
   ]
  },
  {
   "cell_type": "code",
   "execution_count": 3,
   "id": "09656f63-82f4-420b-a7f4-3994633cebf2",
   "metadata": {},
   "outputs": [
    {
     "name": "stdout",
     "output_type": "stream",
     "text": [
      "Python Keywords: ['False', 'None', 'True', 'and', 'as', 'assert', 'async', 'await', 'break', 'class', 'continue', 'def', 'del', 'elif', 'else', 'except', 'finally', 'for', 'from', 'global', 'if', 'import', 'in', 'is', 'lambda', 'nonlocal', 'not', 'or', 'pass', 'raise', 'return', 'try', 'while', 'with', 'yield']\n",
      "Hello, World!\n"
     ]
    }
   ],
   "source": [
    "# 2. Role of predefined keywords in Python with examples\n",
    "\n",
    "\"\"\"\n",
    "Predefined keywords are reserved words in Python that have special meanings and cannot be used as variable names.\n",
    "Some examples include `if`, `else`, `for`, `while`, `def`, `return`, etc.\n",
    "\"\"\"\n",
    "import keyword\n",
    "print(\"Python Keywords:\", keyword.kwlist)\n",
    "\n",
    "# Example of using keywords\n",
    "def greet():\n",
    "    return \"Hello, World!\"\n",
    "\n",
    "print(greet())  # Using 'def' and 'return' keywords"
   ]
  },
  {
   "cell_type": "code",
   "execution_count": 5,
   "id": "4b59a484-d0cd-49b4-91d6-6a56db5eebcd",
   "metadata": {},
   "outputs": [
    {
     "name": "stdout",
     "output_type": "stream",
     "text": [
      "Mutable List: [1, 2, 3, 4]\n",
      "Immutable Tuple: (1, 2, 3)\n"
     ]
    }
   ],
   "source": [
    "# 3. Compare and contrast mutable and immutable objects in Python\n",
    "\n",
    "\"\"\"\n",
    "Mutable objects can be changed after creation, while immutable objects cannot.\n",
    "\n",
    "**Mutable Examples**: Lists, Dictionaries, Sets\n",
    "**Immutable Examples**: Strings, Tuples, Integers\n",
    "\"\"\"\n",
    "\n",
    "# Mutable Example\n",
    "my_list = [1, 2, 3]\n",
    "my_list.append(4)  # Modifying list\n",
    "print(\"Mutable List:\", my_list)\n",
    "\n",
    "# Immutable Example\n",
    "my_tuple = (1, 2, 3)\n",
    "# my_tuple[0] = 10  # This will raise an error\n",
    "print(\"Immutable Tuple:\", my_tuple)"
   ]
  },
  {
   "cell_type": "code",
   "execution_count": 6,
   "id": "45e622e7-5954-49ca-88e4-2de9bb90eb45",
   "metadata": {},
   "outputs": [
    {
     "name": "stdout",
     "output_type": "stream",
     "text": [
      "Addition: 15\n",
      "Comparison: True\n",
      "Logical: True\n",
      "Bitwise AND: 0\n"
     ]
    }
   ],
   "source": [
    "# 4. Different types of operators in Python\n",
    "\n",
    "\"\"\"\n",
    "Python operators:\n",
    "- **Arithmetic Operators**: +, -, *, /, %\n",
    "- **Comparison Operators**: ==, !=, >, <, >=, <=\n",
    "- **Logical Operators**: and, or, not\n",
    "- **Bitwise Operators**: &, |, ^, ~, <<, >>\n",
    "- **Assignment Operators**: =, +=, -=, *=, /=\n",
    "\"\"\"\n",
    "\n",
    "# Example\n",
    "x, y = 10, 5\n",
    "print(\"Addition:\", x + y)  # Arithmetic\n",
    "print(\"Comparison:\", x > y)  # Comparison\n",
    "print(\"Logical:\", x > 5 and y < 10)  # Logical\n",
    "print(\"Bitwise AND:\", x & y)  # Bitwise"
   ]
  },
  {
   "cell_type": "code",
   "execution_count": 7,
   "id": "3b0db088-629c-4134-b500-368d15cd8b01",
   "metadata": {},
   "outputs": [
    {
     "name": "stdout",
     "output_type": "stream",
     "text": [
      "Implicit Casting: 7.5 <class 'float'>\n",
      "Explicit Casting: 123 <class 'int'>\n"
     ]
    }
   ],
   "source": [
    "# 5. Explain the concept of type casting in Python\n",
    "\n",
    "\"\"\"\n",
    "Type casting converts one data type into another.\n",
    "\n",
    "Types:\n",
    "- **Implicit Casting**: Python automatically converts (e.g., int to float)\n",
    "- **Explicit Casting**: Using `int()`, `float()`, `str()`, etc.\n",
    "\"\"\"\n",
    "\n",
    "# Implicit Type Casting\n",
    "a = 5   # int\n",
    "b = 2.5 # float\n",
    "c = a + b  # int + float -> float\n",
    "print(\"Implicit Casting:\", c, type(c))\n",
    "\n",
    "# Explicit Type Casting\n",
    "num = \"123\"\n",
    "num_int = int(num)\n",
    "print(\"Explicit Casting:\", num_int, type(num_int))"
   ]
  },
  {
   "cell_type": "code",
   "execution_count": 8,
   "id": "356360dc-c385-4126-9141-c467f83746a5",
   "metadata": {},
   "outputs": [
    {
     "name": "stdout",
     "output_type": "stream",
     "text": [
      "Positive Number\n"
     ]
    }
   ],
   "source": [
    "\n",
    "# 6. How do conditional statements work in Python?\n",
    "\n",
    "\"\"\"\n",
    "Conditional statements allow decision-making in programs.\n",
    "Examples: `if`, `elif`, `else`\n",
    "\"\"\"\n",
    "\n",
    "a = 10\n",
    "if a > 0:\n",
    "    print(\"Positive Number\")\n",
    "elif a == 0:\n",
    "    print(\"Zero\")\n",
    "else:\n",
    "    print(\"Negative Number\")"
   ]
  },
  {
   "cell_type": "code",
   "execution_count": 9,
   "id": "500834a7-dda8-4a49-8e1c-777a13ca1f28",
   "metadata": {},
   "outputs": [
    {
     "name": "stdout",
     "output_type": "stream",
     "text": [
      "For Loop Iteration: 0\n",
      "For Loop Iteration: 1\n",
      "For Loop Iteration: 2\n",
      "For Loop Iteration: 3\n",
      "For Loop Iteration: 4\n",
      "While Loop Iteration: 0\n",
      "While Loop Iteration: 1\n",
      "While Loop Iteration: 2\n"
     ]
    }
   ],
   "source": [
    "# 7. Different types of loops in Python\n",
    "\n",
    "\"\"\"\n",
    "Types of loops:\n",
    "- **for loop**: Iterates over a sequence\n",
    "- **while loop**: Runs while a condition is true\n",
    "\"\"\"\n",
    "\n",
    "# for loop\n",
    "for i in range(5):\n",
    "    print(\"For Loop Iteration:\", i)\n",
    "\n",
    "# while loop\n",
    "x = 0\n",
    "while x < 3:\n",
    "    print(\"While Loop Iteration:\", x)\n",
    "    x += 1\n"
   ]
  },
  {
   "cell_type": "code",
   "execution_count": null,
   "id": "d6e9e002-590b-45e7-8b40-d1d4a05cf9da",
   "metadata": {},
   "outputs": [],
   "source": []
  }
 ],
 "metadata": {
  "kernelspec": {
   "display_name": "Python 3 (ipykernel)",
   "language": "python",
   "name": "python3"
  },
  "language_info": {
   "codemirror_mode": {
    "name": "ipython",
    "version": 3
   },
   "file_extension": ".py",
   "mimetype": "text/x-python",
   "name": "python",
   "nbconvert_exporter": "python",
   "pygments_lexer": "ipython3",
   "version": "3.13.2"
  }
 },
 "nbformat": 4,
 "nbformat_minor": 5
}
