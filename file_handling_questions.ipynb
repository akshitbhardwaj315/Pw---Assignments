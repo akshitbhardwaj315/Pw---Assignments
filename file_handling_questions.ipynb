{
 "cells": [
  {
   "cell_type": "markdown",
   "id": "15aa965e",
   "metadata": {},
   "source": [
    "# 1 How can you open a file for writing in Python and write a string to it"
   ]
  },
  {
   "cell_type": "code",
   "execution_count": 1,
   "id": "e87f6aa6",
   "metadata": {},
   "outputs": [],
   "source": [
    "with open(\"output.txt\", \"w\") as f:\n",
    "    f.write(\"Hello, Python!\")"
   ]
  },
  {
   "cell_type": "markdown",
   "id": "ea2f56cb",
   "metadata": {},
   "source": [
    "# 2 Write a Python program to read the contents of a file and print each line"
   ]
  },
  {
   "cell_type": "code",
   "execution_count": 2,
   "id": "0829b5df",
   "metadata": {},
   "outputs": [
    {
     "name": "stdout",
     "output_type": "stream",
     "text": [
      "Line 1\n",
      "Line 2\n",
      "Line 3\n"
     ]
    }
   ],
   "source": [
    "with open(\"sample.txt\", \"w\") as f:\n",
    "    f.write(\"Line 1\\nLine 2\\nLine 3\\n\")\n",
    "\n",
    "with open(\"sample.txt\", \"r\") as f:\n",
    "    for line in f:\n",
    "        print(line.strip())"
   ]
  },
  {
   "cell_type": "markdown",
   "id": "e524e63d",
   "metadata": {},
   "source": [
    "# 3 How would you handle a case where the file doesn't exist while trying to open it for reading"
   ]
  },
  {
   "cell_type": "code",
   "execution_count": 3,
   "id": "ca3fb83c",
   "metadata": {},
   "outputs": [
    {
     "name": "stdout",
     "output_type": "stream",
     "text": [
      "File does not exist!\n"
     ]
    }
   ],
   "source": [
    "try:\n",
    "    with open(\"nonexistent.txt\", \"r\") as f:\n",
    "        content = f.read()\n",
    "except FileNotFoundError:\n",
    "    print(\"File does not exist!\")"
   ]
  },
  {
   "cell_type": "markdown",
   "id": "ec0b5ff2",
   "metadata": {},
   "source": [
    "# 4 Write a Python script that reads from one file and writes its content to another file"
   ]
  },
  {
   "cell_type": "code",
   "execution_count": 4,
   "id": "242008cb",
   "metadata": {},
   "outputs": [],
   "source": [
    "with open(\"source.txt\", \"w\") as f:\n",
    "    f.write(\"Source content\\nLine 2\")\n",
    "\n",
    "with open(\"source.txt\", \"r\") as source, open(\"destination.txt\", \"w\") as dest:\n",
    "    dest.write(source.read())"
   ]
  },
  {
   "cell_type": "markdown",
   "id": "eb7c03f1",
   "metadata": {},
   "source": [
    "# 5 How would you catch and handle division by zero error in Python"
   ]
  },
  {
   "cell_type": "code",
   "execution_count": 5,
   "id": "2f7caee5",
   "metadata": {},
   "outputs": [
    {
     "name": "stdout",
     "output_type": "stream",
     "text": [
      "Cannot divide by zero!\n"
     ]
    }
   ],
   "source": [
    "try:\n",
    "    result = 10 / 0\n",
    "except ZeroDivisionError:\n",
    "    print(\"Cannot divide by zero!\")"
   ]
  },
  {
   "cell_type": "markdown",
   "id": "a0a13062",
   "metadata": {},
   "source": [
    "# 5 Write a Python program that logs an error message to a log file when a division by zero exception occurs"
   ]
  },
  {
   "cell_type": "code",
   "execution_count": 6,
   "id": "75ebf6c5",
   "metadata": {},
   "outputs": [],
   "source": [
    "import logging\n",
    "\n",
    "logging.basicConfig(filename=\"error.log\", level=logging.ERROR)\n",
    "try:\n",
    "    result = 10 / 0\n",
    "except ZeroDivisionError as e:\n",
    "    logging.error(f\"Division by zero occurred: {e}\")"
   ]
  },
  {
   "cell_type": "markdown",
   "id": "2ba0672a",
   "metadata": {},
   "source": [
    "# 6 How do you log information at different levels (INFO, ERROR, WARNING) in Python using the logging module"
   ]
  },
  {
   "cell_type": "code",
   "execution_count": 7,
   "id": "5c3951d7",
   "metadata": {},
   "outputs": [],
   "source": [
    "import logging\n",
    "\n",
    "logging.basicConfig(level=logging.INFO)\n",
    "logging.info(\"This is an info message\")\n",
    "logging.warning(\"This is a warning message\")\n",
    "logging.error(\"This is an error message\")"
   ]
  },
  {
   "cell_type": "markdown",
   "id": "7b5b2570",
   "metadata": {},
   "source": [
    "# 7 Write a program to handle a file opening error using exception handling"
   ]
  },
  {
   "cell_type": "code",
   "execution_count": 8,
   "id": "bd22c17b",
   "metadata": {},
   "outputs": [
    {
     "name": "stdout",
     "output_type": "stream",
     "text": [
      "The file was not found!\n"
     ]
    }
   ],
   "source": [
    "try:\n",
    "    with open(\"missing.txt\", \"r\") as f:\n",
    "        content = f.read()\n",
    "except FileNotFoundError:\n",
    "    print(\"The file was not found!\")"
   ]
  },
  {
   "cell_type": "markdown",
   "id": "eba022c9",
   "metadata": {},
   "source": [
    "# 8 How can you read a file line by line and store its content in a list in Python"
   ]
  },
  {
   "cell_type": "code",
   "execution_count": 9,
   "id": "4611a71f",
   "metadata": {},
   "outputs": [
    {
     "name": "stdout",
     "output_type": "stream",
     "text": [
      "['Line 1', 'Line 2', 'Line 3']\n"
     ]
    }
   ],
   "source": [
    "with open(\"sample.txt\", \"w\") as f:\n",
    "    f.write(\"Line 1\\nLine 2\\nLine 3\\n\")\n",
    "\n",
    "with open(\"sample.txt\", \"r\") as f:\n",
    "    lines = [line.strip() for line in f]\n",
    "print(lines)"
   ]
  },
  {
   "cell_type": "markdown",
   "id": "6fe718a3",
   "metadata": {},
   "source": [
    "# 9 How can you append data to an existing file in Python"
   ]
  },
  {
   "cell_type": "code",
   "execution_count": 10,
   "id": "0aebead3",
   "metadata": {},
   "outputs": [],
   "source": [
    "with open(\"output.txt\", \"a\") as f:\n",
    "    f.write(\"\\nAppended text\")"
   ]
  },
  {
   "cell_type": "markdown",
   "id": "7faa56a7",
   "metadata": {},
   "source": [
    "# 10 Write a Python program that uses a try-except block to handle an error when attempting to access a dictionary key that doesn't exist"
   ]
  },
  {
   "cell_type": "code",
   "execution_count": 11,
   "id": "658592ad",
   "metadata": {},
   "outputs": [
    {
     "name": "stdout",
     "output_type": "stream",
     "text": [
      "Key not found!\n"
     ]
    }
   ],
   "source": [
    "d = {\"a\": 1, \"b\": 2}\n",
    "try:\n",
    "    value = d[\"c\"]\n",
    "except KeyError:\n",
    "    print(\"Key not found!\")"
   ]
  },
  {
   "cell_type": "markdown",
   "id": "8d61944b",
   "metadata": {},
   "source": [
    "# 11 Write a program that demonstrates using multiple except blocks to handle different types of exceptions"
   ]
  },
  {
   "cell_type": "code",
   "execution_count": 12,
   "id": "599dd076",
   "metadata": {},
   "outputs": [
    {
     "name": "stdout",
     "output_type": "stream",
     "text": [
      "Invalid integer!\n"
     ]
    }
   ],
   "source": [
    "try:\n",
    "    result = 10 / int(\"abc\")\n",
    "except ZeroDivisionError:\n",
    "    print(\"Division by zero!\")\n",
    "except ValueError:\n",
    "    print(\"Invalid integer!\")"
   ]
  },
  {
   "cell_type": "markdown",
   "id": "13fe78fe",
   "metadata": {},
   "source": [
    "# 12 How would you check if a file exists before attempting to read it in Python"
   ]
  },
  {
   "cell_type": "code",
   "execution_count": 13,
   "id": "62e07659",
   "metadata": {},
   "outputs": [
    {
     "name": "stdout",
     "output_type": "stream",
     "text": [
      "Line 1\n",
      "Line 2\n",
      "Line 3\n",
      "\n"
     ]
    }
   ],
   "source": [
    "import os\n",
    "\n",
    "if os.path.exists(\"sample.txt\"):\n",
    "    with open(\"sample.txt\", \"r\") as f:\n",
    "        print(f.read())\n",
    "else:\n",
    "    print(\"File does not exist!\")"
   ]
  },
  {
   "cell_type": "markdown",
   "id": "7f22d35b",
   "metadata": {},
   "source": [
    "# 13 Write a program that uses the logging module to log both informational and error messages"
   ]
  },
  {
   "cell_type": "code",
   "execution_count": 14,
   "id": "56278b6c",
   "metadata": {},
   "outputs": [],
   "source": [
    "import logging\n",
    "\n",
    "logging.basicConfig(filename=\"app.log\", level=logging.INFO)\n",
    "logging.info(\"Program started\")\n",
    "try:\n",
    "    result = 10 / 0\n",
    "except ZeroDivisionError as e:\n",
    "    logging.error(f\"An error occurred: {e}\")"
   ]
  },
  {
   "cell_type": "markdown",
   "id": "7836959c",
   "metadata": {},
   "source": [
    "# 14 Write a Python program that prints the content of a file and handles the case when the file is empty"
   ]
  },
  {
   "cell_type": "code",
   "execution_count": 15,
   "id": "37289719",
   "metadata": {},
   "outputs": [
    {
     "name": "stdout",
     "output_type": "stream",
     "text": [
      "File is empty!\n"
     ]
    }
   ],
   "source": [
    "with open(\"empty.txt\", \"w\") as f:\n",
    "    f.write(\"\")\n",
    "\n",
    "with open(\"empty.txt\", \"r\") as f:\n",
    "    content = f.read()\n",
    "    if content:\n",
    "        print(content)\n",
    "    else:\n",
    "        print(\"File is empty!\")"
   ]
  },
  {
   "cell_type": "markdown",
   "id": "32cfd966",
   "metadata": {},
   "source": [
    "# 15 Demonstrate how to use memory profiling to check the memory usage of a small program"
   ]
  },
  {
   "cell_type": "code",
   "execution_count": 16,
   "id": "106f23fe",
   "metadata": {},
   "outputs": [
    {
     "ename": "ModuleNotFoundError",
     "evalue": "No module named 'memory_profiler'",
     "output_type": "error",
     "traceback": [
      "\u001b[1;31m---------------------------------------------------------------------------\u001b[0m",
      "\u001b[1;31mModuleNotFoundError\u001b[0m                       Traceback (most recent call last)",
      "Cell \u001b[1;32mIn[16], line 1\u001b[0m\n\u001b[1;32m----> 1\u001b[0m \u001b[38;5;28;01mfrom\u001b[39;00m\u001b[38;5;250m \u001b[39m\u001b[38;5;21;01mmemory_profiler\u001b[39;00m\u001b[38;5;250m \u001b[39m\u001b[38;5;28;01mimport\u001b[39;00m profile\n\u001b[0;32m      3\u001b[0m \u001b[38;5;129m@profile\u001b[39m\n\u001b[0;32m      4\u001b[0m \u001b[38;5;28;01mdef\u001b[39;00m\u001b[38;5;250m \u001b[39m\u001b[38;5;21mmy_function\u001b[39m():\n\u001b[0;32m      5\u001b[0m     a \u001b[38;5;241m=\u001b[39m [\u001b[38;5;241m1\u001b[39m] \u001b[38;5;241m*\u001b[39m (\u001b[38;5;241m10\u001b[39m \u001b[38;5;241m*\u001b[39m\u001b[38;5;241m*\u001b[39m \u001b[38;5;241m6\u001b[39m)\n",
      "\u001b[1;31mModuleNotFoundError\u001b[0m: No module named 'memory_profiler'"
     ]
    }
   ],
   "source": [
    "from memory_profiler import profile\n",
    "\n",
    "@profile\n",
    "def my_function():\n",
    "    a = [1] * (10 ** 6)\n",
    "    b = [2] * (10 ** 6)\n",
    "    return a + b\n",
    "\n",
    "my_function()"
   ]
  },
  {
   "cell_type": "markdown",
   "id": "3d07b410",
   "metadata": {},
   "source": [
    "# 16 Write a Python program to create and write a list of numbers to a file, one number per line"
   ]
  },
  {
   "cell_type": "code",
   "execution_count": null,
   "id": "76c4b2ef",
   "metadata": {},
   "outputs": [],
   "source": [
    "numbers = [1, 2, 3, 4, 5]\n",
    "with open(\"numbers.txt\", \"w\") as f:\n",
    "    for num in numbers:\n",
    "        f.write(f\"{num}\\n\")"
   ]
  },
  {
   "cell_type": "markdown",
   "id": "71a53578",
   "metadata": {},
   "source": [
    "# 17 How would you implement a basic logging setup that logs to a file with rotation after 1MB"
   ]
  },
  {
   "cell_type": "code",
   "execution_count": 17,
   "id": "769ec3f0",
   "metadata": {},
   "outputs": [],
   "source": [
    "import logging\n",
    "from logging.handlers import RotatingFileHandler\n",
    "\n",
    "logger = logging.getLogger(\"MyApp\")\n",
    "logger.setLevel(logging.INFO)\n",
    "handler = RotatingFileHandler(\"app.log\", maxBytes=1*1024*1024, backupCount=3)\n",
    "logger.addHandler(handler)\n",
    "logger.info(\"This is a test log message\")"
   ]
  },
  {
   "cell_type": "markdown",
   "id": "2535b5d8",
   "metadata": {},
   "source": [
    "# 18 Write a program that handles both IndexError and KeyError using a try-except block"
   ]
  },
  {
   "cell_type": "code",
   "execution_count": 18,
   "id": "91ae5d40",
   "metadata": {},
   "outputs": [
    {
     "name": "stdout",
     "output_type": "stream",
     "text": [
      "Index out of range!\n"
     ]
    }
   ],
   "source": [
    "try:\n",
    "    lst = [1, 2]\n",
    "    d = {\"a\": 1}\n",
    "    print(lst[5])\n",
    "    print(d[\"b\"])\n",
    "except IndexError:\n",
    "    print(\"Index out of range!\")\n",
    "except KeyError:\n",
    "    print(\"Key not found!\")"
   ]
  },
  {
   "cell_type": "markdown",
   "id": "46bbf903",
   "metadata": {},
   "source": [
    "# 19 How would you open a file and read its contents using a context manager in Python"
   ]
  },
  {
   "cell_type": "code",
   "execution_count": 19,
   "id": "02c5451c",
   "metadata": {},
   "outputs": [
    {
     "name": "stdout",
     "output_type": "stream",
     "text": [
      "Sample content\n"
     ]
    }
   ],
   "source": [
    "with open(\"sample.txt\", \"w\") as f:\n",
    "    f.write(\"Sample content\")\n",
    "\n",
    "with open(\"sample.txt\", \"r\") as f:\n",
    "    content = f.read()\n",
    "    print(content)"
   ]
  },
  {
   "cell_type": "markdown",
   "id": "e9855b6e",
   "metadata": {},
   "source": [
    "# 20 Write a Python program that reads a file and prints the number of occurrences of a specific word"
   ]
  },
  {
   "cell_type": "code",
   "execution_count": 20,
   "id": "101f7660",
   "metadata": {},
   "outputs": [
    {
     "name": "stdout",
     "output_type": "stream",
     "text": [
      "'hello' appears 2 times\n"
     ]
    }
   ],
   "source": [
    "with open(\"sample.txt\", \"w\") as f:\n",
    "    f.write(\"hello world hello python\")\n",
    "\n",
    "with open(\"sample.txt\", \"r\") as f:\n",
    "    content = f.read()\n",
    "    word = \"hello\"\n",
    "    count = content.split().count(word)\n",
    "    print(f\"'{word}' appears {count} times\")"
   ]
  },
  {
   "cell_type": "markdown",
   "id": "d784477b",
   "metadata": {},
   "source": [
    "# 21 How can you check if a file is empty before attempting to read its contents"
   ]
  },
  {
   "cell_type": "code",
   "execution_count": 21,
   "id": "f0cbdda5",
   "metadata": {},
   "outputs": [
    {
     "name": "stdout",
     "output_type": "stream",
     "text": [
      "File is empty!\n"
     ]
    }
   ],
   "source": [
    "import os\n",
    "\n",
    "with open(\"empty.txt\", \"w\") as f:\n",
    "    f.write(\"\")\n",
    "\n",
    "if os.stat(\"empty.txt\").st_size == 0:\n",
    "    print(\"File is empty!\")\n",
    "else:\n",
    "    with open(\"empty.txt\", \"r\") as f:\n",
    "        print(f.read())"
   ]
  },
  {
   "cell_type": "markdown",
   "id": "d384b13f",
   "metadata": {},
   "source": [
    "# 22 Write a Python program that writes to a log file when an error occurs during file handling"
   ]
  },
  {
   "cell_type": "code",
   "execution_count": 22,
   "id": "bf919443",
   "metadata": {},
   "outputs": [],
   "source": [
    "import logging\n",
    "\n",
    "logging.basicConfig(filename=\"file_error.log\", level=logging.ERROR)\n",
    "try:\n",
    "    with open(\"nonexistent.txt\", \"r\") as f:\n",
    "        content = f.read()\n",
    "except FileNotFoundError as e:\n",
    "    logging.error(f\"File handling error: {e}\")"
   ]
  }
 ],
 "metadata": {
  "kernelspec": {
   "display_name": "Python 3 (ipykernel)",
   "language": "python",
   "name": "python3"
  },
  "language_info": {
   "codemirror_mode": {
    "name": "ipython",
    "version": 3
   },
   "file_extension": ".py",
   "mimetype": "text/x-python",
   "name": "python",
   "nbconvert_exporter": "python",
   "pygments_lexer": "ipython3",
   "version": "3.13.2"
  }
 },
 "nbformat": 4,
 "nbformat_minor": 5
}
