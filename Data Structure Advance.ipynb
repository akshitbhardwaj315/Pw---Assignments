{
 "cells": [
  {
   "cell_type": "code",
   "execution_count": null,
   "id": "7bc0b823",
   "metadata": {},
   "outputs": [],
   "source": [
    "# Reverse a string\n",
    "def reverse_string(s):\n",
    "    return s[::-1]\n",
    "\n",
    "print(reverse_string(\"hello\"))"
   ]
  },
  {
   "cell_type": "code",
   "execution_count": null,
   "id": "3970b20a",
   "metadata": {},
   "outputs": [],
   "source": [
    "# Count the number of vowels in a string\n",
    "def count_vowels(s):\n",
    "    return sum(1 for char in s.lower() if char in \"aeiou\")\n",
    "\n",
    "print(count_vowels(\"hello world\"))"
   ]
  },
  {
   "cell_type": "code",
   "execution_count": null,
   "id": "5dbcb8e1",
   "metadata": {},
   "outputs": [],
   "source": [
    "# Check if a string is a palindrome\n",
    "def is_palindrome(s):\n",
    "    return s == s[::-1]\n",
    "\n",
    "print(is_palindrome(\"madam\"))"
   ]
  },
  {
   "cell_type": "code",
   "execution_count": null,
   "id": "d5d27b3c",
   "metadata": {},
   "outputs": [],
   "source": [
    "# Check if two strings are anagrams\n",
    "from collections import Counter\n",
    "\n",
    "def are_anagrams(s1, s2):\n",
    "    return Counter(s1) == Counter(s2)\n",
    "\n",
    "print(are_anagrams(\"listen\", \"silent\"))"
   ]
  },
  {
   "cell_type": "code",
   "execution_count": null,
   "id": "e2a3442e",
   "metadata": {},
   "outputs": [],
   "source": [
    "# Find all occurrences of a substring\n",
    "def find_substring_occurrences(s, sub):\n",
    "    return [i for i in range(len(s)) if s.startswith(sub, i)]\n",
    "\n",
    "print(find_substring_occurrences(\"banana\", \"ana\"))"
   ]
  },
  {
   "cell_type": "code",
   "execution_count": null,
   "id": "ce1542f9",
   "metadata": {},
   "outputs": [],
   "source": [
    "# String compression\n",
    "def string_compression(s):\n",
    "    compressed = []\n",
    "    count = 1\n",
    "    for i in range(1, len(s)):\n",
    "        if s[i] == s[i-1]:\n",
    "            count += 1\n",
    "        else:\n",
    "            compressed.append(s[i-1] + str(count))\n",
    "            count = 1\n",
    "    compressed.append(s[-1] + str(count))\n",
    "    return \"\".join(compressed)\n",
    "\n",
    "print(string_compression(\"aabbcc\"))"
   ]
  },
  {
   "cell_type": "code",
   "execution_count": null,
   "id": "89ebba12",
   "metadata": {},
   "outputs": [],
   "source": [
    "# Check if a string has all unique characters\n",
    "def is_unique(s):\n",
    "    return len(set(s)) == len(s)\n",
    "\n",
    "print(is_unique(\"abcdef\"))"
   ]
  },
  {
   "cell_type": "code",
   "execution_count": null,
   "id": "09d749c9",
   "metadata": {},
   "outputs": [],
   "source": [
    "# Convert a string to uppercase or lowercase\n",
    "s = \"Hello World\"\n",
    "print(s.upper())\n",
    "print(s.lower())"
   ]
  },
  {
   "cell_type": "code",
   "execution_count": null,
   "id": "329f6323",
   "metadata": {},
   "outputs": [],
   "source": [
    "# Count the number of words in a string\n",
    "def word_count(s):\n",
    "    return len(s.split())\n",
    "\n",
    "print(word_count(\"Hello world! This is Python.\"))"
   ]
  },
  {
   "cell_type": "code",
   "execution_count": null,
   "id": "24b54d24",
   "metadata": {},
   "outputs": [],
   "source": [
    "# Concatenate two strings without using +\n",
    "def concat_strings(s1, s2):\n",
    "    return \"{}{}\".format(s1, s2)\n",
    "\n",
    "print(concat_strings(\"Hello\", \"World\"))"
   ]
  },
  {
   "cell_type": "code",
   "execution_count": null,
   "id": "d81cbd2f",
   "metadata": {},
   "outputs": [],
   "source": [
    "# Remove all occurrences of an element from a list\n",
    "def remove_element(lst, elem):\n",
    "    return [x for x in lst if x != elem]\n",
    "\n",
    "print(remove_element([1, 2, 3, 4, 3, 5], 3))"
   ]
  },
  {
   "cell_type": "code",
   "execution_count": null,
   "id": "b47e364a",
   "metadata": {},
   "outputs": [],
   "source": [
    "# Find the second largest number in a list\n",
    "def second_largest(lst):\n",
    "    unique_sorted = sorted(set(lst), reverse=True)\n",
    "    return unique_sorted[1] if len(unique_sorted) > 1 else None\n",
    "\n",
    "print(second_largest([10, 20, 20, 30, 40, 50]))"
   ]
  },
  {
   "cell_type": "code",
   "execution_count": null,
   "id": "709ab46d",
   "metadata": {},
   "outputs": [],
   "source": [
    "# Count occurrences of elements in a list\n",
    "from collections import Counter\n",
    "\n",
    "def count_occurrences(lst):\n",
    "    return dict(Counter(lst))\n",
    "\n",
    "print(count_occurrences([1, 2, 2, 3, 3, 3, 4]))"
   ]
  },
  {
   "cell_type": "code",
   "execution_count": null,
   "id": "382b9e36",
   "metadata": {},
   "outputs": [],
   "source": [
    "# Reverse a list in-place\n",
    "def reverse_list(lst):\n",
    "    left, right = 0, len(lst) - 1\n",
    "    while left < right:\n",
    "        lst[left], lst[right] = lst[right], lst[left]\n",
    "        left += 1\n",
    "        right -= 1\n",
    "\n",
    "lst = [1, 2, 3, 4, 5]\n",
    "reverse_list(lst)\n",
    "print(lst)"
   ]
  },
  {
   "cell_type": "code",
   "execution_count": null,
   "id": "08383978",
   "metadata": {},
   "outputs": [],
   "source": [
    "# Remove duplicates from a list while preserving order\n",
    "def remove_duplicates(lst):\n",
    "    seen = set()\n",
    "    return [x for x in lst if not (x in seen or seen.add(x))]\n",
    "\n",
    "print(remove_duplicates([1, 2, 2, 3, 4, 4, 5]))"
   ]
  },
  {
   "cell_type": "code",
   "execution_count": null,
   "id": "126566ae",
   "metadata": {},
   "outputs": [],
   "source": [
    "# Check if a list is sorted\n",
    "def is_sorted(lst):\n",
    "    return lst == sorted(lst) or lst == sorted(lst, reverse=True)\n",
    "\n",
    "print(is_sorted([1, 2, 3, 4, 5]))\n",
    "print(is_sorted([5, 4, 3, 2, 1]))"
   ]
  },
  {
   "cell_type": "code",
   "execution_count": null,
   "id": "9a010ced",
   "metadata": {},
   "outputs": [],
   "source": [
    "# Merge two sorted lists\n",
    "def merge_sorted_lists(lst1, lst2):\n",
    "    return sorted(lst1 + lst2)\n",
    "\n",
    "print(merge_sorted_lists([1, 3, 5], [2, 4, 6]))"
   ]
  },
  {
   "cell_type": "code",
   "execution_count": null,
   "id": "d180fdd5",
   "metadata": {},
   "outputs": [],
   "source": [
    "# Find intersection of two lists\n",
    "def list_intersection(lst1, lst2):\n",
    "    return list(set(lst1) & set(lst2))\n",
    "\n",
    "print(list_intersection([1, 2, 3, 4], [3, 4, 5, 6]))"
   ]
  },
  {
   "cell_type": "code",
   "execution_count": null,
   "id": "19a2e387",
   "metadata": {},
   "outputs": [],
   "source": [
    "# Find union of two lists without duplicates\n",
    "def list_union(lst1, lst2):\n",
    "    return list(set(lst1) | set(lst2))\n",
    "\n",
    "print(list_union([1, 2, 3], [3, 4, 5]))"
   ]
  },
  {
   "cell_type": "code",
   "execution_count": null,
   "id": "33f0ba60",
   "metadata": {},
   "outputs": [],
   "source": [
    "# Shuffle a list without built-in shuffle function\n",
    "import random\n",
    "\n",
    "def shuffle_list(lst):\n",
    "    for i in range(len(lst)-1, 0, -1):\n",
    "        j = random.randint(0, i)\n",
    "        lst[i], lst[j] = lst[j], lst[i]\n",
    "\n",
    "lst = [1, 2, 3, 4, 5]\n",
    "shuffle_list(lst)\n",
    "print(lst)"
   ]
  },
  {
   "cell_type": "code",
   "execution_count": null,
   "id": "8fe34e75",
   "metadata": {},
   "outputs": [],
   "source": [
    "# Find common elements in two tuples\n",
    "def tuple_intersection(t1, t2):\n",
    "    return tuple(set(t1) & set(t2))\n",
    "\n",
    "print(tuple_intersection((1, 2, 3), (2, 3, 4)))"
   ]
  },
  {
   "cell_type": "code",
   "execution_count": null,
   "id": "99ffc81e",
   "metadata": {},
   "outputs": [],
   "source": [
    "# Find intersection of two sets\n",
    "def set_intersection():\n",
    "    set1 = set(map(int, input(\"Enter first set: \").split(\",\")))\n",
    "    set2 = set(map(int, input(\"Enter second set: \").split(\",\")))\n",
    "    print(set1 & set2)\n",
    "\n",
    "set_intersection()"
   ]
  },
  {
   "cell_type": "code",
   "execution_count": null,
   "id": "bc43af8a",
   "metadata": {},
   "outputs": [],
   "source": [
    "# Concatenate two tuples\n",
    "def concatenate_tuples(t1, t2):\n",
    "    return t1 + t2\n",
    "\n",
    "print(concatenate_tuples((1, 2, 3), (4, 5, 6)))"
   ]
  }
 ],
 "metadata": {},
 "nbformat": 4,
 "nbformat_minor": 5
}