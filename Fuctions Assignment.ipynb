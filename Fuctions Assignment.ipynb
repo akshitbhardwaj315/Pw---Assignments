{
 "cells": [
  {
   "cell_type": "code",
   "execution_count": 2,
   "id": "3193d58c-58cc-4b42-a700-af10a1142c0d",
   "metadata": {},
   "outputs": [],
   "source": [
    "# Practical Questions"
   ]
  },
  {
   "cell_type": "code",
   "execution_count": 11,
   "id": "2330a6ad-aaf4-44a7-8ccd-63b8746172af",
   "metadata": {},
   "outputs": [
    {
     "name": "stdout",
     "output_type": "stream",
     "text": [
      "6\n"
     ]
    }
   ],
   "source": [
    "# 1. Sum of all even numbers in a list\n",
    "def sum_even_numbers(lst):\n",
    "    result = sum(filter(lambda x: x % 2 == 0, lst))\n",
    "    print(result)\n",
    "\n",
    "sum_even_numbers([1,2,3,4,5])"
   ]
  },
  {
   "cell_type": "code",
   "execution_count": 13,
   "id": "0834f58b-8cf1-4edc-807d-5a5962313d73",
   "metadata": {},
   "outputs": [
    {
     "name": "stdout",
     "output_type": "stream",
     "text": [
      "tihskA\n"
     ]
    }
   ],
   "source": [
    "# 2. Reverse a string\n",
    "def reverse_string(s):\n",
    "    result = s[::-1]\n",
    "    print(result)\n",
    "reverse_string(\"Akshit\")"
   ]
  },
  {
   "cell_type": "code",
   "execution_count": 14,
   "id": "86432ece-66b6-4087-a486-6d496c035d31",
   "metadata": {},
   "outputs": [
    {
     "name": "stdout",
     "output_type": "stream",
     "text": [
      "[1, 4, 9]\n"
     ]
    }
   ],
   "source": [
    "# 3. Square of each number in a list\n",
    "def square_list(lst):\n",
    "    result = [x ** 2 for x in lst]\n",
    "    print(result)\n",
    "square_list([1,2,3])"
   ]
  },
  {
   "cell_type": "code",
   "execution_count": 15,
   "id": "5efb91f7-35de-4415-a28b-22d5aa869826",
   "metadata": {},
   "outputs": [
    {
     "name": "stdout",
     "output_type": "stream",
     "text": [
      "[2, 3, 5, 7, 11, 13, 17, 19, 23, 29, 31, 37, 41, 43, 47, 53, 59, 61, 67, 71, 73, 79, 83, 89, 97, 101, 103, 107, 109, 113, 127, 131, 137, 139, 149, 151, 157, 163, 167, 173, 179, 181, 191, 193, 197, 199]\n"
     ]
    }
   ],
   "source": [
    "def is_prime(n):\n",
    "    if n < 2:\n",
    "        return False\n",
    "    for i in range(2, int(n**0.5) + 1):\n",
    "        if n % i == 0:\n",
    "            return False\n",
    "    return True\n",
    "\n",
    "primes = [n for n in range(1, 201) if is_prime(n)]\n",
    "print(primes)"
   ]
  },
  {
   "cell_type": "code",
   "execution_count": 18,
   "id": "93ee99e6-f5f6-453b-9b83-5641fc11ac8e",
   "metadata": {},
   "outputs": [
    {
     "name": "stdout",
     "output_type": "stream",
     "text": [
      "1\n",
      "1\n",
      "2\n",
      "3\n",
      "5\n"
     ]
    }
   ],
   "source": [
    "# 5. Iterator class for Fibonacci sequence\n",
    "class Fibonacci:\n",
    "    def __init__(self, n):\n",
    "        self.n, self.a, self.b = n, 0, 1\n",
    "    def __iter__(self):\n",
    "        return self\n",
    "    def __next__(self):\n",
    "        if self.n <= 0:\n",
    "            raise StopIteration\n",
    "        self.n -= 1\n",
    "        self.a, self.b = self.b, self.a + self.b\n",
    "        print(self.a)\n",
    "        return self.a\n",
    "fib = Fibonacci(5)  # Generate 5 Fibonacci numbers\n",
    "for num in fib:\n",
    "    pass"
   ]
  },
  {
   "cell_type": "code",
   "execution_count": 19,
   "id": "beb2084e-7296-48f4-91ea-d54201dd09b0",
   "metadata": {},
   "outputs": [],
   "source": [
    "# 6. Generator function for powers of 2\n",
    "def power_of_2(exponent):\n",
    "    for i in range(exponent + 1):\n",
    "        result = 2 ** i\n",
    "        print(result)\n",
    "        yield result"
   ]
  },
  {
   "cell_type": "code",
   "execution_count": 20,
   "id": "e7bbe28a-1224-4613-91e0-3820fbea3e21",
   "metadata": {},
   "outputs": [
    {
     "name": "stdout",
     "output_type": "stream",
     "text": [
      "1\n",
      "2\n",
      "4\n",
      "8\n"
     ]
    }
   ],
   "source": [
    "def power_of_2(exponent):\n",
    "    for i in range(exponent + 1):\n",
    "        result = 2 ** i\n",
    "        print(result)  # Prints each power of 2\n",
    "        yield result\n",
    "\n",
    "gen = power_of_2(3)  \n",
    "for num in gen:\n",
    "    pass  "
   ]
  },
  {
   "cell_type": "code",
   "execution_count": 21,
   "id": "e2af19fb-4798-4223-b584-cec4a840e4e4",
   "metadata": {},
   "outputs": [
    {
     "name": "stdout",
     "output_type": "stream",
     "text": [
      "Line 1\n",
      "Line 2\n",
      "Line 3\n"
     ]
    }
   ],
   "source": [
    "with open(\"sample.txt\", \"w\") as f:\n",
    "    f.write(\"Line 1\\nLine 2\\nLine 3\\n\")\n",
    "\n",
    "def read_file(filename):\n",
    "    with open(filename, 'r') as file:\n",
    "        for line in file:\n",
    "            result = line.strip()\n",
    "            print(result)\n",
    "            yield result\n",
    "\n",
    "for line in read_file(\"sample.txt\"):\n",
    "    pass"
   ]
  },
  {
   "cell_type": "code",
   "execution_count": 22,
   "id": "c15e68bf-3c89-43bb-b43a-0d844636af03",
   "metadata": {},
   "outputs": [
    {
     "name": "stdout",
     "output_type": "stream",
     "text": [
      "[(4, 1), (2, 2), (1, 3)]\n"
     ]
    }
   ],
   "source": [
    "\n",
    "# 8. Lambda function to sort tuples by second element\n",
    "tuples_list = [(1, 3), (4, 1), (2, 2)]\n",
    "sorted_tuples = sorted(tuples_list, key=lambda x: x[1])\n",
    "print(sorted_tuples)"
   ]
  },
  {
   "cell_type": "code",
   "execution_count": 23,
   "id": "c4d3de47-18b9-48e4-bdbd-07d40f96126d",
   "metadata": {},
   "outputs": [
    {
     "name": "stdout",
     "output_type": "stream",
     "text": [
      "[32.0, 68.0, 86.0, 104.0]\n"
     ]
    }
   ],
   "source": [
    "# 9. Convert temperatures using map\n",
    "def celsius_to_fahrenheit(c):\n",
    "    return (c * 9/5) + 32\n",
    "\n",
    "temps_c = [0, 20, 30, 40]\n",
    "temps_f = list(map(celsius_to_fahrenheit, temps_c))\n",
    "print(temps_f)\n"
   ]
  },
  {
   "cell_type": "code",
   "execution_count": 24,
   "id": "949e9192-0ff1-4f2e-989d-fdd12ad24f25",
   "metadata": {},
   "outputs": [
    {
     "name": "stdout",
     "output_type": "stream",
     "text": [
      "Hll Wrld\n"
     ]
    },
    {
     "data": {
      "text/plain": [
       "'Hll Wrld'"
      ]
     },
     "execution_count": 24,
     "metadata": {},
     "output_type": "execute_result"
    }
   ],
   "source": [
    "def remove_vowels(s):\n",
    "    result = ''.join(filter(lambda x: x.lower() not in 'aeiou', s))\n",
    "    print(result)\n",
    "    return result\n",
    "    \n",
    "remove_vowels(\"Hello World\")"
   ]
  },
  {
   "cell_type": "code",
   "execution_count": 25,
   "id": "38eb7d3f-4f68-4643-96d0-03a759d6c1cf",
   "metadata": {},
   "outputs": [
    {
     "name": "stdout",
     "output_type": "stream",
     "text": [
      "[(34587, 163.8), (98762, 284.0), (77226, 108.85000000000001), (88112, 84.97)]\n"
     ]
    }
   ],
   "source": [
    "# 11. Bookshop order calculations using lambda and map\n",
    "orders = [\n",
    "    (34587, \"Learning Python, Mark Lutz\", 4, 40.95),\n",
    "    (98762, \"Programming Python, Mark Lutz\", 5, 56.80),\n",
    "    (77226, \"Head First Python, Paul Barry\", 3, 32.95),\n",
    "    (88112, \"Einführung in Python3, Bernd Klein\", 3, 24.99)\n",
    "]\n",
    "\n",
    "order_totals = list(map(lambda x: (x[0], x[2] * x[3] + (10 if x[2] * x[3] < 100 else 0)), orders))\n",
    "print(order_totals)\n"
   ]
  },
  {
   "cell_type": "code",
   "execution_count": null,
   "id": "110398c0-5b96-45bd-81b2-7ce910231e4e",
   "metadata": {},
   "outputs": [],
   "source": []
  }
 ],
 "metadata": {
  "kernelspec": {
   "display_name": "Python 3 (ipykernel)",
   "language": "python",
   "name": "python3"
  },
  "language_info": {
   "codemirror_mode": {
    "name": "ipython",
    "version": 3
   },
   "file_extension": ".py",
   "mimetype": "text/x-python",
   "name": "python",
   "nbconvert_exporter": "python",
   "pygments_lexer": "ipython3",
   "version": "3.13.2"
  }
 },
 "nbformat": 4,
 "nbformat_minor": 5
}
